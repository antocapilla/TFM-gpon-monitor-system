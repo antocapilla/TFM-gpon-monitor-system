{
 "cells": [
  {
   "cell_type": "code",
   "execution_count": 9,
   "metadata": {},
   "outputs": [],
   "source": [
    "# Set some environment variables\n",
    "import os\n",
    "gpu_num = 0 # GPU to be used. Use \"\" to use the CPU\n",
    "os.environ['TF_CPP_MIN_LOG_LEVEL'] = '3' # Suppress some TF warnings\n",
    "os.environ[\"CUDA_VISIBLE_DEVICES\"] = f\"{gpu_num}\"\n",
    "\n",
    "# Import Sionna\n",
    "try:\n",
    "    import sionna\n",
    "except ImportError as e:\n",
    "    # Install Sionna if package is not already installed\n",
    "    os.system(\"pip install sionna\")\n",
    "    import sionna\n",
    "\n",
    "# Configure GPU\n",
    "import tensorflow as tf\n",
    "gpus = tf.config.list_physical_devices('GPU')\n",
    "if gpus:\n",
    "    try:\n",
    "        tf.config.experimental.set_memory_growth(gpus[0], True)\n",
    "    except RuntimeError as e:\n",
    "        print(e)\n",
    "\n",
    "# Avoid warnings from TensorFlow\n",
    "import warnings\n",
    "tf.get_logger().setLevel('ERROR')\n",
    "warnings.filterwarnings('ignore')\n",
    "\n",
    "# Other imports\n",
    "import numpy as np\n",
    "%matplotlib inline\n",
    "import matplotlib.pyplot as plt\n",
    "import matplotlib.patches as patches\n",
    "\n",
    "from sionna.rt import load_scene, PlanarArray, Transmitter, Receiver, Camera\n",
    "\n",
    "# Fix the seed for reproducible results\n",
    "tf.random.set_seed(1)"
   ]
  },
  {
   "cell_type": "code",
   "execution_count": 12,
   "metadata": {},
   "outputs": [
    {
     "ename": "RuntimeError",
     "evalue": "​[xml.cpp:179] Error while loading \"C:\\Users\\acapi\\AppData\\Local\\Packages\\PythonSoftwareFoundation.Python.3.12_qbz5n2kfra8p0\\LocalCache\\local-packages\\Python312\\site-packages\\sionna\\rt\\scenes\\etoile\\etoile.xml\" (at line 11, col 3): resource deadlock would occur: resource deadlock would occur.",
     "output_type": "error",
     "traceback": [
      "\u001b[1;31m---------------------------------------------------------------------------\u001b[0m",
      "\u001b[1;31mRuntimeError\u001b[0m                              Traceback (most recent call last)",
      "Cell \u001b[1;32mIn[12], line 3\u001b[0m\n\u001b[0;32m      1\u001b[0m \u001b[38;5;28;01mimport\u001b[39;00m \u001b[38;5;21;01msionna\u001b[39;00m\n\u001b[0;32m      2\u001b[0m \u001b[38;5;28;01mfrom\u001b[39;00m \u001b[38;5;21;01msionna\u001b[39;00m\u001b[38;5;21;01m.\u001b[39;00m\u001b[38;5;21;01mrt\u001b[39;00m \u001b[38;5;28;01mimport\u001b[39;00m load_scene, PlanarArray, Transmitter, Receiver\n\u001b[1;32m----> 3\u001b[0m scene \u001b[38;5;241m=\u001b[39m \u001b[43mload_scene\u001b[49m\u001b[43m(\u001b[49m\u001b[43msionna\u001b[49m\u001b[38;5;241;43m.\u001b[39;49m\u001b[43mrt\u001b[49m\u001b[38;5;241;43m.\u001b[39;49m\u001b[43mscene\u001b[49m\u001b[38;5;241;43m.\u001b[39;49m\u001b[43metoile\u001b[49m\u001b[43m)\u001b[49m\n\u001b[0;32m      5\u001b[0m \u001b[38;5;66;03m# Configure antenna array for all transmitters\u001b[39;00m\n\u001b[0;32m      6\u001b[0m scene\u001b[38;5;241m.\u001b[39mtx_array \u001b[38;5;241m=\u001b[39m PlanarArray(num_rows\u001b[38;5;241m=\u001b[39m\u001b[38;5;241m8\u001b[39m,\n\u001b[0;32m      7\u001b[0m                         num_cols\u001b[38;5;241m=\u001b[39m\u001b[38;5;241m2\u001b[39m,\n\u001b[0;32m      8\u001b[0m                         vertical_spacing\u001b[38;5;241m=\u001b[39m\u001b[38;5;241m0.7\u001b[39m,\n\u001b[0;32m      9\u001b[0m                         horizontal_spacing\u001b[38;5;241m=\u001b[39m\u001b[38;5;241m0.5\u001b[39m,\n\u001b[0;32m     10\u001b[0m                         pattern\u001b[38;5;241m=\u001b[39m\u001b[38;5;124m\"\u001b[39m\u001b[38;5;124mtr38901\u001b[39m\u001b[38;5;124m\"\u001b[39m,\n\u001b[0;32m     11\u001b[0m                           polarization\u001b[38;5;241m=\u001b[39m\u001b[38;5;124m\"\u001b[39m\u001b[38;5;124mVH\u001b[39m\u001b[38;5;124m\"\u001b[39m)\n",
      "File \u001b[1;32m~\\AppData\\Local\\Packages\\PythonSoftwareFoundation.Python.3.12_qbz5n2kfra8p0\\LocalCache\\local-packages\\Python312\\site-packages\\sionna\\rt\\scene.py:1498\u001b[0m, in \u001b[0;36mload_scene\u001b[1;34m(filename, dtype)\u001b[0m\n\u001b[0;32m   1496\u001b[0m \u001b[38;5;28;01mif\u001b[39;00m filename \u001b[38;5;129;01mis\u001b[39;00m \u001b[38;5;28;01mNone\u001b[39;00m:\n\u001b[0;32m   1497\u001b[0m     filename \u001b[38;5;241m=\u001b[39m \u001b[38;5;124m\"\u001b[39m\u001b[38;5;124m__empty__\u001b[39m\u001b[38;5;124m\"\u001b[39m\n\u001b[1;32m-> 1498\u001b[0m \u001b[38;5;28;01mreturn\u001b[39;00m \u001b[43mScene\u001b[49m\u001b[43m(\u001b[49m\u001b[43mfilename\u001b[49m\u001b[43m,\u001b[49m\u001b[43m \u001b[49m\u001b[43mdtype\u001b[49m\u001b[38;5;241;43m=\u001b[39;49m\u001b[43mdtype\u001b[49m\u001b[43m)\u001b[49m\n",
      "File \u001b[1;32m~\\AppData\\Local\\Packages\\PythonSoftwareFoundation.Python.3.12_qbz5n2kfra8p0\\LocalCache\\local-packages\\Python312\\site-packages\\sionna\\rt\\scene.py:131\u001b[0m, in \u001b[0;36mScene.__init__\u001b[1;34m(self, env_filename, dtype)\u001b[0m\n\u001b[0;32m    126\u001b[0m     \u001b[38;5;28mself\u001b[39m\u001b[38;5;241m.\u001b[39m_scene \u001b[38;5;241m=\u001b[39m mi\u001b[38;5;241m.\u001b[39mload_dict({\u001b[38;5;124m\"\u001b[39m\u001b[38;5;124mtype\u001b[39m\u001b[38;5;124m\"\u001b[39m: \u001b[38;5;124m\"\u001b[39m\u001b[38;5;124mscene\u001b[39m\u001b[38;5;124m\"\u001b[39m,\n\u001b[0;32m    127\u001b[0m                                 \u001b[38;5;124m\"\u001b[39m\u001b[38;5;124mintegrator\u001b[39m\u001b[38;5;124m\"\u001b[39m: {\n\u001b[0;32m    128\u001b[0m                                     \u001b[38;5;124m\"\u001b[39m\u001b[38;5;124mtype\u001b[39m\u001b[38;5;124m\"\u001b[39m: \u001b[38;5;124m\"\u001b[39m\u001b[38;5;124mpath\u001b[39m\u001b[38;5;124m\"\u001b[39m,\n\u001b[0;32m    129\u001b[0m                                 }})\n\u001b[0;32m    130\u001b[0m \u001b[38;5;28;01melse\u001b[39;00m:\n\u001b[1;32m--> 131\u001b[0m     \u001b[38;5;28mself\u001b[39m\u001b[38;5;241m.\u001b[39m_scene \u001b[38;5;241m=\u001b[39m \u001b[43mmi\u001b[49m\u001b[38;5;241;43m.\u001b[39;49m\u001b[43mload_file\u001b[49m\u001b[43m(\u001b[49m\u001b[43menv_filename\u001b[49m\u001b[43m)\u001b[49m\n\u001b[0;32m    133\u001b[0m \u001b[38;5;66;03m# Instantiate the solver\u001b[39;00m\n\u001b[0;32m    134\u001b[0m \u001b[38;5;28mself\u001b[39m\u001b[38;5;241m.\u001b[39m_solver_paths \u001b[38;5;241m=\u001b[39m SolverPaths(\u001b[38;5;28mself\u001b[39m, dtype\u001b[38;5;241m=\u001b[39mdtype)\n",
      "\u001b[1;31mRuntimeError\u001b[0m: ​[xml.cpp:179] Error while loading \"C:\\Users\\acapi\\AppData\\Local\\Packages\\PythonSoftwareFoundation.Python.3.12_qbz5n2kfra8p0\\LocalCache\\local-packages\\Python312\\site-packages\\sionna\\rt\\scenes\\etoile\\etoile.xml\" (at line 11, col 3): resource deadlock would occur: resource deadlock would occur."
     ]
    }
   ],
   "source": [
    "import sionna\n",
    "from sionna.rt import load_scene, PlanarArray, Transmitter, Receiver\n",
    "scene = load_scene(sionna.rt.scene.etoile)\n",
    "\n",
    "# Configure antenna array for all transmitters\n",
    "scene.tx_array = PlanarArray(num_rows=8,\n",
    "                        num_cols=2,\n",
    "                        vertical_spacing=0.7,\n",
    "                        horizontal_spacing=0.5,\n",
    "                        pattern=\"tr38901\",\n",
    "                          polarization=\"VH\")\n",
    "\n",
    "# Configure antenna array for all receivers\n",
    "scene.rx_array = PlanarArray(num_rows=1,\n",
    "                        num_cols=1,\n",
    "                        vertical_spacing=0.5,\n",
    "                        horizontal_spacing=0.5,\n",
    "                        pattern=\"dipole\",\n",
    "                        polarization=\"cross\")\n",
    "# Add a transmitters\n",
    "tx = Transmitter(name=\"tx\",\n",
    "            position=[8.5,21,30],\n",
    "            orientation=[0,0,0])\n",
    "scene.add(tx)\n",
    "tx.look_at([40,80,1.5])\n",
    "\n",
    "# Compute coverage map\n",
    "cm = scene.coverage_map(cm_cell_size=[1.,1.],\n",
    "                    num_samples=int(10e6))\n",
    "\n",
    "# Visualize coverage in preview\n",
    "# scene.preview(coverage_map=cm,\n",
    "#             resolution=[1000, 600])"
   ]
  }
 ],
 "metadata": {
  "kernelspec": {
   "display_name": "Python 3",
   "language": "python",
   "name": "python3"
  },
  "language_info": {
   "codemirror_mode": {
    "name": "ipython",
    "version": 3
   },
   "file_extension": ".py",
   "mimetype": "text/x-python",
   "name": "python",
   "nbconvert_exporter": "python",
   "pygments_lexer": "ipython3",
   "version": "3.12.3"
  }
 },
 "nbformat": 4,
 "nbformat_minor": 2
}
